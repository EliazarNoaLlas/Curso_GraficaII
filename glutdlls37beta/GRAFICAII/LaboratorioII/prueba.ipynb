{
 "cells": [
  {
   "cell_type": "code",
   "execution_count": 12,
   "metadata": {},
   "outputs": [],
   "source": [
    "''''\n",
    "la funcion genera una cadena iterando \n",
    "numIters veces y aplicando la función \n",
    "procesarCadena en cada iteración\n",
    "'''\n",
    "def crearSistemaL(numIters,axioma):\n",
    "\n",
    "    cadenaInicio = axioma\n",
    "    cadenaFin = \"\"\n",
    "    # para cada iteracion\n",
    "    for i in range(numIters):\n",
    "        # procesa cadena\n",
    "        cadenaFin = procesarCadena(cadenaInicio) \n",
    "        print(cadenaFin)\n",
    "        # la cadena resultante se convierte en cadena de inicio\n",
    "        cadenaInicio = cadenaFin\n",
    "    return cadenaFin"
   ]
  },
  {
   "cell_type": "code",
   "execution_count": 21,
   "metadata": {},
   "outputs": [],
   "source": [
    "''''\n",
    "la funcion toma una cadena (cadenaVieja)\n",
    "y aplica la función aplicarReglas a cada\n",
    " caracter de la cadena\n",
    "'''\n",
    "def procesarCadena(cadenaVieja):\n",
    "    nuevaCadena = \"\"\n",
    "    # para cada caracter\n",
    "    for ch in cadenaVieja:\n",
    "        # aplica la regla para cada ch\n",
    "        nuevaCadena = nuevaCadena + aplicarReglas(ch)\n",
    "    return nuevaCadena"
   ]
  },
  {
   "cell_type": "code",
   "execution_count": 19,
   "metadata": {},
   "outputs": [],
   "source": [
    "def aplicarReglas(ch):\n",
    "    nuevaCadena = \"\"\n",
    "    if ch == 'F':\n",
    "        nuevaCadena = 'F-F++F-F' # Regla 1\n",
    "    else:\n",
    "        nuevaCadena = ch # No se aplica regla, mantenemos el caracter\n",
    "    return nuevaCadena"
   ]
  },
  {
   "cell_type": "code",
   "execution_count": 23,
   "metadata": {},
   "outputs": [
    {
     "name": "stdout",
     "output_type": "stream",
     "text": [
      "F-F++F-F++F-F++F-F++F-F++F-F\n",
      "F-F++F-F-F-F++F-F++F-F++F-F-F-F++F-F++F-F++F-F-F-F++F-F++F-F++F-F-F-F++F-F++F-F++F-F-F-F++F-F++F-F++F-F-F-F++F-F\n"
     ]
    },
    {
     "data": {
      "text/plain": [
       "'F-F++F-F-F-F++F-F++F-F++F-F-F-F++F-F++F-F++F-F-F-F++F-F++F-F++F-F-F-F++F-F++F-F++F-F-F-F++F-F++F-F++F-F-F-F++F-F'"
      ]
     },
     "execution_count": 23,
     "metadata": {},
     "output_type": "execute_result"
    }
   ],
   "source": [
    "crearSistemaL(2, 'F++F++F')"
   ]
  },
  {
   "cell_type": "code",
   "execution_count": 24,
   "metadata": {},
   "outputs": [],
   "source": [
    "''''Dibuja el sistema L tomando\n",
    "- lar tortuga\n",
    "- instrucciones(cadena al crear el sistema)\n",
    "- angulod para la rotacion\n",
    "- distancia para dibujar una linea\n",
    "'''\n",
    "\n",
    "def dibujarSistemaL(aTurtle, instrucciones, angulo, distancia):\n",
    "    # para cada instruccion\n",
    "    for cmd in instrucciones:\n",
    "        # la tortuga avanza distancia pasos\n",
    "        if cmd == 'F':\n",
    "            aTurtle.forward(distancia)\n",
    "        # la tortuga gira a la derecha segun el angulo\n",
    "        elif cmd == '+':\n",
    "            aTurtle.right(angulo)\n",
    "        # la tortuga gira a la izquierda segun el angulo\n",
    "        elif cmd == '-':\n",
    "            aTurtle.left(angulo)\n",
    " "
   ]
  },
  {
   "cell_type": "code",
   "execution_count": 40,
   "metadata": {},
   "outputs": [
    {
     "name": "stdout",
     "output_type": "stream",
     "text": [
      "F-F++F-F\n",
      "F-F++F-F-F-F++F-F++F-F++F-F-F-F++F-F\n",
      "F-F++F-F-F-F++F-F++F-F++F-F-F-F++F-F-F-F++F-F-F-F++F-F++F-F++F-F-F-F++F-F++F-F++F-F-F-F++F-F++F-F++F-F-F-F++F-F-F-F++F-F-F-F++F-F++F-F++F-F-F-F++F-F\n",
      "F-F++F-F-F-F++F-F++F-F++F-F-F-F++F-F-F-F++F-F-F-F++F-F++F-F++F-F-F-F++F-F++F-F++F-F-F-F++F-F++F-F++F-F-F-F++F-F-F-F++F-F-F-F++F-F++F-F++F-F-F-F++F-F-F-F++F-F-F-F++F-F++F-F++F-F-F-F++F-F-F-F++F-F-F-F++F-F++F-F++F-F-F-F++F-F++F-F++F-F-F-F++F-F++F-F++F-F-F-F++F-F-F-F++F-F-F-F++F-F++F-F++F-F-F-F++F-F++F-F++F-F-F-F++F-F++F-F++F-F-F-F++F-F-F-F++F-F-F-F++F-F++F-F++F-F-F-F++F-F++F-F++F-F-F-F++F-F++F-F++F-F-F-F++F-F-F-F++F-F-F-F++F-F++F-F++F-F-F-F++F-F-F-F++F-F-F-F++F-F++F-F++F-F-F-F++F-F-F-F++F-F-F-F++F-F++F-F++F-F-F-F++F-F++F-F++F-F-F-F++F-F++F-F++F-F-F-F++F-F-F-F++F-F-F-F++F-F++F-F++F-F-F-F++F-F\n",
      "F-F++F-F-F-F++F-F++F-F++F-F-F-F++F-F-F-F++F-F-F-F++F-F++F-F++F-F-F-F++F-F++F-F++F-F-F-F++F-F++F-F++F-F-F-F++F-F-F-F++F-F-F-F++F-F++F-F++F-F-F-F++F-F-F-F++F-F-F-F++F-F++F-F++F-F-F-F++F-F-F-F++F-F-F-F++F-F++F-F++F-F-F-F++F-F++F-F++F-F-F-F++F-F++F-F++F-F-F-F++F-F-F-F++F-F-F-F++F-F++F-F++F-F-F-F++F-F++F-F++F-F-F-F++F-F++F-F++F-F-F-F++F-F-F-F++F-F-F-F++F-F++F-F++F-F-F-F++F-F++F-F++F-F-F-F++F-F++F-F++F-F-F-F++F-F-F-F++F-F-F-F++F-F++F-F++F-F-F-F++F-F-F-F++F-F-F-F++F-F++F-F++F-F-F-F++F-F-F-F++F-F-F-F++F-F++F-F++F-F-F-F++F-F++F-F++F-F-F-F++F-F++F-F++F-F-F-F++F-F-F-F++F-F-F-F++F-F++F-F++F-F-F-F++F-F\n"
     ]
    }
   ],
   "source": [
    "#importacion de la libreria turtle\n",
    "from turtle import *\n",
    "def main():\n",
    "    tracer(0, 0) # desactiva la animacion de la tortuga\n",
    "    inst = crearSistemaL(4, \"F\") # crea els istema L\n",
    "    print(inst) # imprimir el sistema L\n",
    "    t = Turtle() # crea la tortuga\n",
    "    wn = Screen() # crea la ventana de visualizacion de la tortuga\n",
    "    t.up() # levanta el lapiz no dibuje\n",
    "    t.back(200) # mueve la tortuga hacia atraza 200 u\n",
    "    t.down() # baja el lapiz para que dibuje\n",
    "    t.speed(1) # establece la velociad de dibujo\n",
    "    dibujarSistemaL(aTurtle=t,instrucciones= inst,angulo= 60,distancia= 5) # dibuja la imagen\n",
    "    # angulo 60, longitud de segmento 5\n",
    "    done() # mantener abierta la ventana\n",
    "main()"
   ]
  },
  {
   "cell_type": "code",
   "execution_count": 1,
   "metadata": {},
   "outputs": [
    {
     "name": "stdout",
     "output_type": "stream",
     "text": [
      "F-F++F-F-F-F++F-F++F-F++F-F-F-F++F-F-F-F++F-F-F-F++F-F++F-F++F-F-F-F++F-F++F-F++F-F-F-F++F-F++F-F++F-F-F-F++F-F-F-F++F-F-F-F++F-F++F-F++F-F-F-F++F-F-F-F++F-F-F-F++F-F++F-F++F-F-F-F++F-F-F-F++F-F-F-F++F-F++F-F++F-F-F-F++F-F++F-F++F-F-F-F++F-F++F-F++F-F-F-F++F-F-F-F++F-F-F-F++F-F++F-F++F-F-F-F++F-F++F-F++F-F-F-F++F-F++F-F++F-F-F-F++F-F-F-F++F-F-F-F++F-F++F-F++F-F-F-F++F-F++F-F++F-F-F-F++F-F++F-F++F-F-F-F++F-F-F-F++F-F-F-F++F-F++F-F++F-F-F-F++F-F-F-F++F-F-F-F++F-F++F-F++F-F-F-F++F-F-F-F++F-F-F-F++F-F++F-F++F-F-F-F++F-F++F-F++F-F-F-F++F-F++F-F++F-F-F-F++F-F-F-F++F-F-F-F++F-F++F-F++F-F-F-F++F-F\n"
     ]
    }
   ],
   "source": [
    "#importacion de la libreria turtle\n",
    "from turtle import *\n",
    "\n",
    "''' Funcion : crearSistemaL \n",
    "    numIters: numero de iteraciones\n",
    "    axioma  : punto de partida\n",
    "'''\n",
    "def crearSistemaL(numIters,axioma):\n",
    "    cadenaInicio = axioma\n",
    "    cadenaFin = \"\"\n",
    "    for i in range(numIters):\n",
    "        cadenaFin = procesarCadena(cadenaInicio)\n",
    "        cadenaInicio = cadenaFin\n",
    "    return cadenaFin\n",
    "def procesarCadena(cadenaVieja):\n",
    "\n",
    "    nuevaCadena = \"\"\n",
    "    for ch in cadenaVieja:\n",
    "        nuevaCadena = nuevaCadena + aplicarReglas(ch)\n",
    "    return nuevaCadena\n",
    "def aplicarReglas(ch):\n",
    "    nuevaCadena = \"\"\n",
    "    if ch == 'F':\n",
    "        nuevaCadena = 'F-F++F-F' # Regla 1\n",
    "    else:\n",
    "        nuevaCadena = ch # No se aplica regla, mantenemos el caracter\n",
    "    return nuevaCadena\n",
    "def dibujarSistemaL(aTurtle, instrucciones, angulo, distancia):\n",
    "    for cmd in instrucciones:\n",
    "        if cmd == 'F':\n",
    "            aTurtle.forward(distancia)\n",
    "        elif cmd == 'B':\n",
    "            aTurtle.backward(distancia)\n",
    "        elif cmd == '+':\n",
    "            aTurtle.right(angulo)\n",
    "        elif cmd == '-':\n",
    "            aTurtle.left(angulo)\n",
    "            \n",
    "def main():\n",
    "    tracer(0, 0)\n",
    "    inst = crearSistemaL(4, \"F\") # crea la cadena\n",
    "    print(inst)\n",
    "    t = Turtle() # crea la tortuga\n",
    "    wn = Screen()\n",
    "    t.up()\n",
    "    t.back(200)\n",
    "    t.down()\n",
    "    t.speed(9)\n",
    "    dibujarSistemaL(t, inst, 60, 5) # dibuja la imagen\n",
    "    # angulo 60, longitud de segmento 5\n",
    "    done() #mantener abierta la ventana\n",
    "main()\n"
   ]
  },
  {
   "cell_type": "code",
   "execution_count": 1,
   "metadata": {},
   "outputs": [
    {
     "name": "stdout",
     "output_type": "stream",
     "text": [
      "helllo wordl\n"
     ]
    }
   ],
   "source": [
    "print(\"helllo wordl\")"
   ]
  },
  {
   "cell_type": "code",
   "execution_count": 2,
   "metadata": {},
   "outputs": [],
   "source": [
    "import turtle\n",
    "\n",
    "# Define the variables.\n",
    "variables = [\"A\", \"B\"]\n",
    "constants = []\n",
    "axiom = \"A\"\n",
    "rules = {\n",
    "    \"A\": \"ABA\",\n",
    "    \"B\": \"BBB\"\n",
    "}"
   ]
  },
  {
   "cell_type": "code",
   "execution_count": 6,
   "metadata": {},
   "outputs": [
    {
     "data": {
      "text/plain": [
       "{'A': 'ABA', 'B': 'BBB'}"
      ]
     },
     "execution_count": 6,
     "metadata": {},
     "output_type": "execute_result"
    }
   ],
   "source": [
    "rules"
   ]
  },
  {
   "cell_type": "code",
   "execution_count": 10,
   "metadata": {},
   "outputs": [
    {
     "ename": "",
     "evalue": "",
     "output_type": "error",
     "traceback": [
      "\u001b[1;31mEl Kernel se bloqueó al ejecutar código en la celda actual o en una celda anterior. Revise el código de las celdas para identificar una posible causa del error. Haga clic <a href='https://aka.ms/vscodeJupyterKernelCrash'>aquí</a> para obtener más información. Vea el [registro] de Jupyter (command:jupyter.viewOutput) para obtener más detalles."
     ]
    }
   ],
   "source": [
    "# Initialize the turtle.\n",
    "turtle.speed(0)\n",
    "turtle.left(90)\n",
    "# Wait for the user to close the window.\n"
   ]
  }
 ],
 "metadata": {
  "kernelspec": {
   "display_name": "base",
   "language": "python",
   "name": "python3"
  },
  "language_info": {
   "codemirror_mode": {
    "name": "ipython",
    "version": 3
   },
   "file_extension": ".py",
   "mimetype": "text/x-python",
   "name": "python",
   "nbconvert_exporter": "python",
   "pygments_lexer": "ipython3",
   "version": "3.10.9"
  },
  "orig_nbformat": 4
 },
 "nbformat": 4,
 "nbformat_minor": 2
}
